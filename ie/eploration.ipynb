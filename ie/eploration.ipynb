{
 "cells": [
  {
   "cell_type": "code",
   "execution_count": 3,
   "metadata": {},
   "outputs": [
    {
     "name": "stderr",
     "output_type": "stream",
     "text": [
      "No model was supplied, defaulted to distilbert-base-cased-distilled-squad and revision 626af31 (https://huggingface.co/distilbert-base-cased-distilled-squad).\n",
      "Using a pipeline without specifying a model name and revision in production is not recommended.\n"
     ]
    },
    {
     "data": {
      "text/plain": [
       "{'score': 0.5290765762329102,\n",
       " 'start': 3935,\n",
       " 'end': 3945,\n",
       " 'answer': \"11 o'clock\"}"
      ]
     },
     "execution_count": 3,
     "metadata": {},
     "output_type": "execute_result"
    }
   ],
   "source": [
    "from transformers import pipeline\n",
    "\n",
    "qa_model = pipeline(\"question-answering\")"
   ]
  },
  {
   "cell_type": "code",
   "execution_count": 6,
   "metadata": {},
   "outputs": [
    {
     "data": {
      "text/plain": [
       "{'score': 0.8058796525001526,\n",
       " 'start': 8771,\n",
       " 'end': 8816,\n",
       " 'answer': 'Sons of Anarchy, Terranova, and Hawaii Five-O'}"
      ]
     },
     "execution_count": 6,
     "metadata": {},
     "output_type": "execute_result"
    }
   ],
   "source": [
    "question = \"This is someone's diary entry. What tv shows does this person watch?\"\n",
    "context = \" I woke up, my daughter had a uni exam, so what's the usual routine? I got up, had a smoke, went and had a shower, wake my son up, put him in the shower, got his breakfast ready, made his lunch, and packed his bag, and drove him to school, and then went and put some petrol in the car, went to attempt to put some petrol in the car, however the petrol that I use, they had the sorry sign on them, so then I left because I had enough to get to work and back. I jumped on the M7, got on the M4, drove around Harris Park looking for a park, got one, put in some money, $4.40 for 4 hours, got to work by 9.30, then I was, I came in, I was, one of the executive assistants came up to see me, so I was trying to show her a little bit of our system that I work with, because at 3pm yesterday, they were shutting down, closing down the system for an upgrade, so I didn't want to show everything because it would have been information overload, but I was just showing her the basics of what I thought was important, and then I showed her some of the paperwork, I showed her some date ranges of what she needed to be aware of, I told her those three things, you can't break anything, and our boss is there, or my boss is there, and everything's available on the intranet, and I'd print out, oh, everything's available on the intranet, and I'd print out everything that she'd need to back her up for her handout manuals. And then I did a little bit of data entry, because the system was going to be shut down at 3pm, talked about when I'll be going to Goulburn, and who my contact is, and the arrangements for when I leave the building this afternoon, I talked to my boss because I actually had a, oh yesterday was Wednesday, yeah, I have doctor's appointments every Wednesday, usually I try and make it, schedule it for the end of my working day, like after 3pm, but this one yesterday was at 2.10pm, so I said to my boss, oh look, I have to go, I've got to take a half day, and then also on Friday, because I'm going to the academy, I would like to take Friday off so I can chill with my daughter, because she won't have an exam tomorrow, and he said that was alright, and then, what did I do after that? I had a little bit of a chat with the unit, and we were talking about workers' comp claims, we were talking about overtime, SAP, what was available on the IBR system and the upgrade, I had some lunch, went and had another cigarette, came back upstairs, and I was talking to one of my colleagues about, we're advertising a roster position, and three of the people that are in my unit, they're leaving, so we were talking a little bit about interview techniques, and then I left for the day, I went back to my car, oh, when I crossed the road, the council rangers were out and they were in front of me, and I knew my time had lapsed by about 15 minutes, and I thought, oh no, not another ticket, they're $86 now, or something like that, I can't afford another ticket, so I was trying to walk ahead of them and beat them, and then Jay walked across the road and I ran across the road so I could get right in front of them, and then I got to my car, jumped in, let some of the hot air out, started the car, drove to close to Parramatta RSL, I parked in Parramatta Park, and there's like a four hour free parking, well it's not free parking, you can only park there for four hours and you've got to move, parked there, crossed the road, went to Macquarie Street, I went in, I had my appointment, and then I came home, and, oh sorry, didn't go home, I drove, I hooked up with Great Western Highway, got back onto the M4, onto the M7, went and picked my son up from after school care, we came home, I made him a snack, leftover spaghetti bolognese, and then I thought, what are we going to have for dinner, and I bought these crumbed fish fillets, so I thought, oh yeah, we'll have them with some boiled potatoes and some veggies, so I prepared that, I went in, I started cleaning up my room, I put on a load of washing, took out the rubbish, by then my daughter had finished her exam, so I rang her up to see where she was at, her friend was sick, she had this tummy virus, she was vomiting, so she had just been with her, and then her parent went and picked her up, and then she was at Quakers Hill Station, and she's got a weekly, it's a multi-zone three, so that covers all trains, buses, and ferries for Sydney, so she said, oh I'm at Quakers Hill Station, she was catching the train back to Mount Druitt, and then she was going to bus it back home, so checked in with her, and then my son was on his DS, and he had the Fox Till on the Cartoon Channel, he was watching that, and then I rang up my hubby, and I said, oh how's work going, what are you up to, and then he showed me this Tango site, because I thought, I'm not sure, I have to find out if they have internet access at the academy, because I was saying, oh you know, I'll just ring you to say goodnight, I'll ring to say goodnight to the kids, and then I said, oh maybe there's Skype so I can see them, but I thought it's only Monday to Friday, I'll be home Friday afternoon, and then my husband was telling me about this Tango application for iPhones, for Windows phones, and for Android phones, where you can download the app for free onto your phone, or onto your laptop PC, and you can actually connect online, I've got like 1.5 gig on my plan for internet access, and then we can talk, and it turns the phone into like a video cam, so you can see each other, rather than using Skype, and then I don't have to take my laptop, so we were talking about that, and then we set it up while he was at work, and it was pretty cool, the only thing with Windows phones is, the iPhones, you can see each other talking, but the Windows phone, the camera is on the back, so you'd have to face the camera to you, for them to see your face, so a lot of the time we were talking to each other, and you could just see through the camera, what was in front of you, and then there was a little screen on the bottom left hand side, and that was either their camera view, and yours is the bigger one, and if you click on the little one, it swaps them, so the reception was a little bit bad, depending on where you've got the strength of the signal, and because we have wireless at home, so then after that, I got off the phone from him, I was still cooking dinner, I served up dinner, and then I served up dinner to Connor, Hannah walked in the door, and then I packed away Nick's dinner, and then I was cleaning the lounge, went to his room, went to Connor's room, checking out his bedroom, picking up all his toys, and then he was talking to me about one of his games, and there's puzzles, like a, what's it called, I can't remember what the game's called, but there's these like, they're like puzzles where you, aptitude puzzles, so he's asking me for my help on these puzzles, and one of them I was stumped, it was a cube, and it was a flat cube, and there was one square that was filled in with a road, like a road, and then there were all these other random pieces, and you had to put them in together so that when the cube came together, and I kept failing on that for him, so his sister got home by then, and then she did it in five minutes, and so he dissed me, he said thanks for nothing mum, and I continued watching his cartoons, and then, by then, hubby came home, I'd put the load of washing, because at the moment I'm on strike for our washing line, because there's a lot of excess wood, branches and leaves, because I trimmed a lot of the stuff, and I've been saying to my husband I need a skip bin, so I've got that in the backyard, and the grass has grown a little, so I said I'm not going to hang out the washing until you get that skip bin, because I don't want to be putting it into the bin every two weeks, so I went to the dryer, put the washing in, put the dryer on, folded the washing that was in the dryer, sorry, so that's my second load, so I bought the washing out of the dryer, because I usually fill up the, yeah, I usually put the washing that I've washed the night before, before I go to bed, into the dryer, so I bought that out of the dryer, put that load in that I had done when I came home, and then was folding the washing, and then hubby comes home, he has dinner, we're mucking around with Tango, and then I start telling my family, I start ringing my family saying, oh you have to download this Tango application, and then we can all talk, and it's not through, it's like one of those applications where Telstra uses it too sometimes, but they don't tell us about it, and we get charged those extra costs, so yeah, I was talking to my sister, then, oh, and then I watch three shows, I watch Sons of Anarchy, Terranova, and Hawaii Five-O, and I watch them with my husband Nick, and so I said to him, you have to record the next two weeks while I'm at Goulburn, and you have to promise me that you're not going to watch them, and it can be a big catch-up for when I come back, yeah, because there's like the last two episodes for one of the series that we thought, oh, rather than me come back on the weekend, and then we watch it, let's just, you record the two, and then when I do return, after the fortnight, we can watch them together, and it can be like a movie session, then I thought, oh, what are we going to do now?\"\n",
    "qa_model(question = question, context = context)\n",
    "## {'answer': 'İstanbul', 'end': 39, 'score': 0.953, 'start': 31}\n"
   ]
  }
 ],
 "metadata": {
  "kernelspec": {
   "display_name": ".venv",
   "language": "python",
   "name": "python3"
  },
  "language_info": {
   "codemirror_mode": {
    "name": "ipython",
    "version": 3
   },
   "file_extension": ".py",
   "mimetype": "text/x-python",
   "name": "python",
   "nbconvert_exporter": "python",
   "pygments_lexer": "ipython3",
   "version": "3.10.6"
  },
  "orig_nbformat": 4,
  "vscode": {
   "interpreter": {
    "hash": "9a2a67ec8613d4fe838519aa4301bcae5e92cc04c78068c58b9a9e1e7c71b4d1"
   }
  }
 },
 "nbformat": 4,
 "nbformat_minor": 2
}
