{
 "cells": [
  {
   "cell_type": "code",
   "execution_count": 1,
   "metadata": {},
   "outputs": [
    {
     "name": "stderr",
     "output_type": "stream",
     "text": [
      "/Users/martymoesta/.venv/lib/python3.10/site-packages/tqdm/auto.py:22: TqdmWarning: IProgress not found. Please update jupyter and ipywidgets. See https://ipywidgets.readthedocs.io/en/stable/user_install.html\n",
      "  from .autonotebook import tqdm as notebook_tqdm\n"
     ]
    }
   ],
   "source": [
    "import whisper\n",
    "import pandas as pd\n",
    "model = whisper.load_model(\"large-v2\")"
   ]
  },
  {
   "cell_type": "code",
   "execution_count": 5,
   "metadata": {},
   "outputs": [
    {
     "name": "stdout",
     "output_type": "stream",
     "text": [
      "transcribing:  ./earnings/earnings21/trimmy.mov\n"
     ]
    },
    {
     "ename": "",
     "evalue": "",
     "output_type": "error",
     "traceback": [
      "\u001b[1;31mThe Kernel crashed while executing code in the the current cell or a previous cell. Please review the code in the cell(s) to identify a possible cause of the failure. Click <a href='https://aka.ms/vscodeJupyterKernelCrash'>here</a> for more info. View Jupyter <a href='command:jupyter.viewOutput'>log</a> for further details."
     ]
    },
    {
     "ename": "",
     "evalue": "",
     "output_type": "error",
     "traceback": [
      "\u001b[1;31mCanceled future for execute_request message before replies were done"
     ]
    }
   ],
   "source": [
    "df = pd.read_csv('./earnings/earnings21/earnings21-file-metadata.csv')\n",
    "df['whisper-transcript-path'] = None\n",
    "#df_by_length=df.sort_values(by=['audio_length'], axis=0)\n",
    "#df_by_speaker = df.sort_values(by=['unique_speakers'], axis =0)\n",
    "\n",
    "\n",
    "for i in range(df.shape[0]):\n",
    "    filename = df['file_id'][i]\n",
    "    #f_full = './speech-datasets/earnings21/media/' + str(filename) + '.mp3'\n",
    "    f_full = './earnings/earnings21/trimmy.mov'\n",
    "    print(\"transcribing: \", f_full)\n",
    "    result = model.transcribe(f_full)\n",
    "    output = './earnings/earnings21/whisper-transcripts/' + str(filename) +'.txt'\n",
    "    df['whisper-transcript-path'] = output\n",
    "    print(\"writing: \", output)\n",
    "    with open(output, 'w') as f:\n",
    "        f.write(result['text'])\n",
    "        f.close()\n"
   ]
  },
  {
   "cell_type": "code",
   "execution_count": 26,
   "metadata": {},
   "outputs": [],
   "source": []
  }
 ],
 "metadata": {
  "kernelspec": {
   "display_name": "Python 3.10.8 ('.venv')",
   "language": "python",
   "name": "python3"
  },
  "language_info": {
   "codemirror_mode": {
    "name": "ipython",
    "version": 3
   },
   "file_extension": ".py",
   "mimetype": "text/x-python",
   "name": "python",
   "nbconvert_exporter": "python",
   "pygments_lexer": "ipython3",
   "version": "3.10.8"
  },
  "orig_nbformat": 4,
  "vscode": {
   "interpreter": {
    "hash": "ecd2d2d579b3917ca02830ae781cc738f2611e6dad38496dc733497614c43e84"
   }
  }
 },
 "nbformat": 4,
 "nbformat_minor": 2
}
